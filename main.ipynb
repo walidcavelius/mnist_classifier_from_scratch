{
 "cells": [
  {
   "cell_type": "markdown",
   "id": "399a0bbc-9284-4251-a7a7-70a5f4b6d51e",
   "metadata": {},
   "source": [
    "Having just started learning machine learning and deep learning with the fast.ai course, I wanted to build a small project after finishing lesson 4, as I was starting to feel bored just watching lectures and reading Colab notebooks.\n",
    "\n",
    "After some research I found that one project to get a strong understanding of how it all works was the MNIST classification project, considered the \"Hello, world!\" of computer vision.\n",
    "\n",
    "MNIST is a dataset of handwritten digits developed in 1994 by Yann Lecun, using the works of Corinna Cortes and Chris Burges. It is composed of 60000 digits for the training set, and 10000 digits for the test set.\n",
    "\n",
    "So the goal of this program is to develop a CNN capable of classifying digits. Truthfully, CNN is actually not needed for this particular task as the images are quite small and centered, we could get good results with a normal neural network. But because CNN is to my understanding state of the art in the computer vision field, I wanted to implement it. To do so, I will proceed in the following steps:\n",
    "\n",
    "1 - Load the data, preparation if needed\n",
    "\n",
    "2 - Implement helper functions\n",
    "\n",
    "3 - Implement the CNN architecture -> trying to do it using OOP as it seems like good practice\n",
    "\n",
    "4 - Implement the forward pass -> convolution operation, activation using ReLU, max pooling, repeating, flattening, FC layer using softmax.\n",
    "\n",
    "5 - Implement Backprop using SGD (need more details on that)\n",
    "\n",
    "6 - Implement the training loop, with the number of epochs as a parameter (forward pass -> compute loss -> backward pass -> update params)\n",
    "\n",
    "7 - Get results, test accuracy\n",
    "\n",
    "8 - Optimization"
   ]
  },
  {
   "cell_type": "code",
   "execution_count": 1,
   "id": "2b6beced-8fd2-4207-af01-ec45df747aa2",
   "metadata": {},
   "outputs": [],
   "source": [
    "import numpy as np\n",
    "import matplotlib.pyplot as plt\n",
    "import struct\n",
    "from scipy.signal import convolve2d\n",
    "import skimage.measure\n",
    "from scipy.special import softmax"
   ]
  },
  {
   "attachments": {},
   "cell_type": "markdown",
   "id": "e29ba44f-1bff-46ab-bff4-b950ef637ef0",
   "metadata": {},
   "source": [
    "First, we load the MNIST dataset downloaded from Kaggle (https://www.kaggle.com/datasets/hojjatk/mnist-dataset/data).\n",
    "\n",
    "To do so, we use the struct module (https://stackoverflow.com/a/53181925) : the first 8 bytes contain the magic number, used to identify the file type, and the size of the dataset. The next 8 bytes contain the number of rows and the number of columns (28x28).\n",
    "\n",
    "struct.unpack(\">II\", ...) unpacks these bytes into two 32-bit integers (\">II\" means big-endian, two unsigned ints).\n",
    "\n",
    "TRAINING SET LABEL FILE (train-labels-idx1-ubyte):\n",
    "\n",
    "[offset] [type]          [value]          [description]\n",
    "\n",
    "0000     32 bit integer  0x00000801(2049) magic number (MSB first)\n",
    "\n",
    "0004     32 bit integer  60000            number of items\n",
    "\n",
    "0008     unsigned byte   ??               label\n",
    "\n",
    "0009     unsigned byte   ??               label\n",
    "\n",
    "........\n",
    "\n",
    "xxxx     unsigned byte   ??               label\n",
    "\n",
    "The labels values are 0 to 9.\n",
    "\n",
    "TRAINING SET IMAGE FILE (train-images-idx3-ubyte):\n",
    "\n",
    "[offset] [type]          [value]          [description]\n",
    "\n",
    "0000     32 bit integer  0x00000803(2051) magic number\n",
    "\n",
    "0004     32 bit integer  60000            number of images\n",
    "\n",
    "0008     32 bit integer  28               number of rows\n",
    "\n",
    "0012     32 bit integer  28               number of columns\n",
    "\n",
    "0016     unsigned byte   ??               pixel\n",
    "\n",
    "0017     unsigned byte   ??               pixel\n",
    "\n",
    "........\n",
    "\n",
    "xxxx     unsigned byte   ??               pixel"
   ]
  },
  {
   "cell_type": "code",
   "execution_count": 2,
   "id": "b8d8ba4a-b1ed-489d-926f-43b445b54293",
   "metadata": {},
   "outputs": [
    {
     "name": "stdout",
     "output_type": "stream",
     "text": [
      "[5 0 4 ... 5 6 8]\n",
      "[7 2 1 ... 4 5 6]\n"
     ]
    },
    {
     "data": {
      "image/png": "[encoded data removed]",
      "text/plain": [
       "<Figure size 640x480 with 1 Axes>"
      ]
     },
     "metadata": {},
     "output_type": "display_data"
    }
   ],
   "source": [
    "with open('data/train-images.idx3-ubyte','rb') as f:\n",
    "    magic, size = struct.unpack(\">II\", f.read(8))\n",
    "    nrows, ncols = struct.unpack(\">II\", f.read(8))\n",
    "    data = np.fromfile(f, dtype=np.dtype(np.uint8).newbyteorder('>'))   \n",
    "    train_data = data.reshape((size, nrows, ncols))\n",
    "\n",
    "with open('data/train-labels.idx1-ubyte','rb') as f:\n",
    "    magic, size = struct.unpack(\">II\", f.read(8))\n",
    "    train_labels = np.fromfile(f, dtype=np.dtype(np.uint8).newbyteorder('>'))   \n",
    "    print(train_labels)\n",
    "\n",
    "with open('data/t10k-images.idx3-ubyte','rb') as f:\n",
    "    magic, size = struct.unpack(\">II\", f.read(8))\n",
    "    nrows, ncols = struct.unpack(\">II\", f.read(8))\n",
    "    data = np.fromfile(f, dtype=np.dtype(np.uint8).newbyteorder('>'))   \n",
    "    test_data = data.reshape((size, nrows, ncols))\n",
    "\n",
    "with open('data/t10k-labels.idx1-ubyte','rb') as f:\n",
    "    magic, size = struct.unpack(\">II\", f.read(8))\n",
    "    test_labels = np.fromfile(f, dtype=np.dtype(np.uint8).newbyteorder('>'))   \n",
    "    print(test_labels)\n",
    "\n",
    "plt.imshow(train_data[1],  cmap='gray')\n",
    "plt.show()"
   ]
  },
  {
   "cell_type": "markdown",
   "id": "25d5c657-74ef-4977-83a6-a98c712ae1e6",
   "metadata": {},
   "source": [
    "First, we need to define some helper functions.\n",
    "The ReLU is used after the convolutions to activate them.\n",
    "apply_convolution uses convolve2d of scipy to convolve the image and the kernel.\n",
    "max_pooling uses skimage to pool the image with the pool_size passed as a param."
   ]
  },
  {
   "cell_type": "code",
   "execution_count": 3,
   "id": "92735cc4-be8d-40de-b394-834c2391d3b8",
   "metadata": {
    "scrolled": true
   },
   "outputs": [],
   "source": [
    "def relu(x):\n",
    "    return np.maximum(0, x)\n",
    "\n",
    "def apply_convolution(image, kernel, bias):\n",
    "    return convolve2d(image, kernel, mode='valid') + bias\n",
    "\n",
    "def max_pooling(image, pool_size=(2,2)):\n",
    "    return skimage.measure.block_reduce(image, pool_size, np.max)"
   ]
  },
  {
   "cell_type": "markdown",
   "id": "3653a5cb-c619-4e2c-ad58-fa2dda0829b5",
   "metadata": {},
   "source": [
    "Next, we will build the architecture of our model in OOP.\n",
    "\n",
    "While working on this, a question arised: what is the difference between adding layers of convolution and adding filters per layer of convolution? How can I choose if I do one or the other? Well, adding layers of convolution typically means increasing the depth of the neural network which allows for learning more complex and abstract features of the image. On the other hand, increasing the number of filters of a convolution layer allows for learning more features at the same level of abstraction. The first has a greater impact on computational complexity.\n",
    "Adding more layers : Helpful when dealing with more complex patterns or larger input sizes\n",
    "Adding more filters per layer : Helpful to capture more diverse features at a particular level of abstraction"
   ]
  },
  {
   "cell_type": "code",
   "execution_count": 217,
   "id": "159e610a-ea78-4699-a072-1d1a4399ffa9",
   "metadata": {
    "scrolled": true
   },
   "outputs": [
    {
     "data": {
      "image/png": "[encoded data removed]",
      "text/plain": [
       "<Figure size 640x480 with 1 Axes>"
      ]
     },
     "metadata": {},
     "output_type": "display_data"
    },
    {
     "ename": "TypeError",
     "evalue": "'>=' not supported between instances of 'NoneType' and 'int'",
     "output_type": "error",
     "traceback": [
      "\u001b[0;31m---------------------------------------------------------------------------\u001b[0m",
      "\u001b[0;31mTypeError\u001b[0m                                 Traceback (most recent call last)",
      "Cell \u001b[0;32mIn[217], line 75\u001b[0m\n\u001b[1;32m     71\u001b[0m cnn \u001b[38;5;241m=\u001b[39m CNN(ConvLayer(\u001b[38;5;241m3\u001b[39m, \u001b[38;5;241m3\u001b[39m), ConvLayer(\u001b[38;5;241m1\u001b[39m,\u001b[38;5;241m2\u001b[39m))\n\u001b[1;32m     73\u001b[0m train_data \u001b[38;5;241m=\u001b[39m train_data\u001b[38;5;241m.\u001b[39mreshape(\u001b[38;5;241m60000\u001b[39m,\u001b[38;5;241m28\u001b[39m,\u001b[38;5;241m28\u001b[39m,\u001b[38;5;241m1\u001b[39m)\n\u001b[0;32m---> 75\u001b[0m \u001b[43mcnn\u001b[49m\u001b[38;5;241;43m.\u001b[39;49m\u001b[43mforward_pass\u001b[49m\u001b[43m(\u001b[49m\u001b[43mtrain_data\u001b[49m\u001b[43m[\u001b[49m\u001b[38;5;241;43m0\u001b[39;49m\u001b[43m]\u001b[49m\u001b[43m)\u001b[49m\n",
      "Cell \u001b[0;32mIn[217], line 24\u001b[0m, in \u001b[0;36mCNN.forward_pass\u001b[0;34m(self, X)\u001b[0m\n\u001b[1;32m     22\u001b[0m     layer\u001b[38;5;241m.\u001b[39minitialize(X\u001b[38;5;241m.\u001b[39mshape[\u001b[38;5;241m-\u001b[39m\u001b[38;5;241m1\u001b[39m])\n\u001b[1;32m     23\u001b[0m X \u001b[38;5;241m=\u001b[39m \u001b[38;5;28mself\u001b[39m\u001b[38;5;241m.\u001b[39mconvolution(X, layer)\n\u001b[0;32m---> 24\u001b[0m X \u001b[38;5;241m=\u001b[39m \u001b[43mnp\u001b[49m\u001b[38;5;241;43m.\u001b[39;49m\u001b[43mmaximum\u001b[49m\u001b[43m(\u001b[49m\u001b[43mX\u001b[49m\u001b[43m,\u001b[49m\u001b[43m \u001b[49m\u001b[38;5;241;43m0\u001b[39;49m\u001b[43m)\u001b[49m  \u001b[38;5;66;03m# ReLU\u001b[39;00m\n\u001b[1;32m     25\u001b[0m X \u001b[38;5;241m=\u001b[39m \u001b[38;5;28mself\u001b[39m\u001b[38;5;241m.\u001b[39mmax_pool(X)\n\u001b[1;32m     26\u001b[0m \u001b[38;5;28mprint\u001b[39m(\u001b[38;5;124mf\u001b[39m\u001b[38;5;124m\"\u001b[39m\u001b[38;5;124mLayer \u001b[39m\u001b[38;5;132;01m{\u001b[39;00mi\u001b[38;5;132;01m}\u001b[39;00m\u001b[38;5;124m output shape: \u001b[39m\u001b[38;5;132;01m{\u001b[39;00mX\u001b[38;5;241m.\u001b[39mshape\u001b[38;5;132;01m}\u001b[39;00m\u001b[38;5;124m\"\u001b[39m)\n",
      "\u001b[0;31mTypeError\u001b[0m: '>=' not supported between instances of 'NoneType' and 'int'"
     ]
    }
   ],
   "source": [
    "class ConvLayer:\n",
    "\n",
    "    def __init__(self, num_filters, kernel_size, stride=1):\n",
    "        self.num_filters = num_filters\n",
    "        self.kernel_size = kernel_size\n",
    "        self.stride = stride\n",
    "        self.W = None\n",
    "        self.b = None\n",
    "\n",
    "    def initialize(self, input_depth):\n",
    "        self.W = np.random.randn(self.num_filters, self.kernel_size, self.kernel_size, input_depth) / (self.kernel_size * self.kernel_size) # divide xavier initialization\n",
    "        self.b = np.zeros(self.num_filters)\n",
    "\n",
    "class CNN:\n",
    "\n",
    "    def __init__(self, *conv_layers):\n",
    "        self.conv_layers = conv_layers\n",
    "\n",
    "    def forward_pass(self, X):\n",
    "        for i, layer in enumerate(self.conv_layers, 1):\n",
    "            if layer.W is None:\n",
    "                layer.initialize(X.shape[-1])\n",
    "            X = self.convolution(X, layer)\n",
    "            X = np.maximum(X, 0)  # ReLU\n",
    "            X = self.max_pool(X)\n",
    "            print(f\"Layer {i} output shape: {X.shape}\")\n",
    "        return X\n",
    "\n",
    "    # For the convolution, I chose to use scipy.signal.convolve2d as it is implemented and compiled in C\n",
    "    # which makes it much faster to operate than if I implemented it myself in python (and it's quite easier too...) \n",
    "    def convolution(self, X, layer):\n",
    "\n",
    "        #example :\n",
    "        #X : (28,28,1)\n",
    "        #layer.W : (3,3,3,1)\n",
    "        #output : (26, 26, 3)\n",
    "\n",
    "        #next iteration :\n",
    "        #X : (26,26,3)\n",
    "        #layer.W : (3,3,3,3)\n",
    "        #output : (24,24,9)\n",
    "        \n",
    "        \"\"\"\n",
    "        X[:,:,0] extracts the 2D image from the 3D array.\n",
    "        layer.W[i,:,:,0] selects the i-th 3x3 filter.\n",
    "        The 'valid' mode in convolve2d ensures the correct output size.\n",
    "        might need to squeeze or reshape the convolve2d output to fit into the output array.\n",
    "        \"\"\"\n",
    "\n",
    "        new_size = X.shape[0] - layer.W.shape[1] + 1\n",
    "        \n",
    "        new_depth = layer.W.shape[3]*layer.W.shape[0]\n",
    "        \n",
    "        output = np.zeros((new_size,new_size,new_depth))\n",
    "\n",
    "\n",
    "        for i_X in range(layer.W.shape[3]):\n",
    "            for i_W in range(layer.W.shape[0]):\n",
    "                output[:,:,i_W] = convolve2d(X[:,:,i_X], layer.W[i_W,:,:,i_X], mode=\"valid\")\n",
    "\n",
    "        plt.imshow(output[:,:,1],  cmap='gray')\n",
    "        plt.show()\n",
    "        \n",
    "        \n",
    "    def max_pool(self, X, pool_size=2):\n",
    "        n, p = X.shape\n",
    "        return X[:n//pool_size*pool_size, :p//pool_size*pool_size].reshape(n//pool_size, pool_size, p//pool_size, pool_size).max(axis=(1,3))\n",
    "\n",
    "cnn = CNN(ConvLayer(3, 3), ConvLayer(1,2))\n",
    "\n",
    "train_data = train_data.reshape(60000,28,28,1)\n",
    "\n",
    "cnn.forward_pass(train_data[0])"
   ]
  },
  {
   "cell_type": "markdown",
   "id": "4a19beef-822e-4fde-a4b7-71f5a1c30e93",
   "metadata": {
    "scrolled": true
   },
   "source": [
    "## W1 = np.random.randn(5, 5) * 0.01 # 5 by 5 kernels\n",
    "b1 = np.zeros(1)\n",
    "\n",
    "# Convolutional layer 2\n",
    "W2 = np.random.randn(3, 3) * 0.01 # 3 by 3 kernels\n",
    "b2 = np.zeros(1)\n",
    "\n",
    "conv1_output_size = train_data.shape[1] - W1.shape[0] + 1\n",
    "pool1_output_size = conv1_output_size // 2\n",
    "conv2_output_size = pool1_output_size - W2.shape[0] + 1\n",
    "pool2_output_size = conv2_output_size // 2\n",
    "fc_input_size = pool2_output_size * pool2_output_size\n",
    "\n",
    "W3 = np.random.randn(fc_input_size, 10) * 0.01\n",
    "b3 = np.zeros(10)\n",
    "\n",
    "print(W3.shape)"
   ]
  },
  {
   "cell_type": "code",
   "execution_count": 5,
   "id": "c5d37432-4aea-4002-a341-fe5e59dc01bd",
   "metadata": {},
   "outputs": [],
   "source": [
    "def forward_pass(image):\n",
    "    \n",
    "    # First convolutional layer\n",
    "    conv1 = apply_convolution(image, W1, b1)\n",
    "    conv1_activated = relu(conv1)\n",
    "    \n",
    "    # First pooling layer\n",
    "    pool1 = max_pooling(conv1_activated)\n",
    "    \n",
    "    # Second convolutional layer\n",
    "    conv2 = apply_convolution(pool1, W2, b2)\n",
    "    conv2_activated = relu(conv2)\n",
    "    \n",
    "    # Second pooling layer\n",
    "    pool2 = max_pooling(conv2_activated)\n",
    "    \n",
    "    # Flatten\n",
    "    flattened = pool2.flatten()\n",
    "    \n",
    "    # Fully connected layer\n",
    "    fc = np.dot(flattened, W3) + b3\n",
    "    \n",
    "    # Output layer with softmax\n",
    "    output = softmax(fc.reshape(1, -1))\n",
    "    \n",
    "    return output"
   ]
  },
  {
   "cell_type": "code",
   "execution_count": 47,
   "id": "5b3e233d-73d3-46af-a7f5-bbe90cc39048",
   "metadata": {},
   "outputs": [
    {
     "name": "stdout",
     "output_type": "stream",
     "text": [
      "Output for first image: [[0.10062846 0.10088258 0.10006423 0.09978168 0.09895976 0.10019187\n",
      "  0.09939027 0.09984605 0.09933434 0.10092076]]\n",
      "Predicted class: 9\n",
      "Actual class: 5\n"
     ]
    }
   ],
   "source": [
    "sample_output = forward_pass(train_data[0])\n",
    "print(\"Output for first image:\", sample_output)\n",
    "print(\"Predicted class:\", np.argmax(sample_output))\n",
    "print(\"Actual class:\", train_labels[0])"
   ]
  },
  {
   "cell_type": "code",
   "execution_count": 48,
   "id": "aaaa15fa-5823-49c2-90b5-8304fff20c83",
   "metadata": {},
   "outputs": [
    {
     "name": "stdout",
     "output_type": "stream",
     "text": [
      "Accuracy over all train dataset: 0.105\n"
     ]
    }
   ],
   "source": [
    "all_outputs = np.array([forward_pass(img) for img in train_data[:1000]])\n",
    "\n",
    "results = np.argmax(all_outputs, axis=-1).T\n",
    "\n",
    "print(\"Accuracy over all train dataset:\", np.mean(results == train_labels[:1000]))"
   ]
  },
  {
   "cell_type": "markdown",
   "id": "4937f800-8dcc-4de7-a652-d000b7f86769",
   "metadata": {},
   "source": [
    "At this point, we achieved the first part of the project. The forward pass allows the model to properly arrive to a conclusion. For now, the result is quite bad due to the randomness of the parameters.\n",
    "\n",
    "Now we need to implement backpropagation to allow the model to learn by computing the loss and updating the weights and biases accordingly.\n",
    "\n",
    "My first idea to get the loss was to compute the difference between the actual number and the confidence for each number. For example:\n",
    "Let's say the actual number is a 2 and the output we got is this [0.09982253 0.10030541 0.1006628  0.09944194 0.09963454 0.10006153\n",
    "  0.10002742 0.10004489 0.09985413 0.10014481] -> the model predicted a 7\n",
    "\n",
    "What we would do is first create an array of size 10 for the actual number with zeros for each index not of that number and a one for the right index : [0 0 1 0 0 0 0 0 0 0]\n",
    "\n",
    "Then we would compute the absolute difference between each value to get the loss for this particular prediction. We would repeat the process for all the 60000 predictions.\n",
    "\n",
    "After some testing, I noticed that the program was really slow to compute the absolute difference for each of the inputs. I then did some research and found out that my solution, while valid, was really slow and was not really commonly used. After some research, I came accross this the Cross Entropy Loss function which is the default loss function to use for multi-class classification problems.\n",
    "\n",
    "\n",
    "\n",
    "So that's what we will use for the loss."
   ]
  },
  {
   "cell_type": "code",
   "execution_count": 49,
   "id": "b48a47ba-0829-42e8-8b82-c8d81d6ea437",
   "metadata": {},
   "outputs": [
    {
     "name": "stdout",
     "output_type": "stream",
     "text": [
      "0.2302550384901763\n"
     ]
    },
    {
     "data": {
      "text/plain": [
       "'\\narr = np.zeros(10)\\narr[train_labels[0]] = 1\\narr = np.eye(10)[train_labels[0]]\\n\\nloss = abs(np.eye(10)[train_labels] - all_outputs)\\n\\nprint(loss)\\n'"
      ]
     },
     "execution_count": 49,
     "metadata": {},
     "output_type": "execute_result"
    }
   ],
   "source": [
    "def cross_entropy(y_true, y_pred):\n",
    "    return -np.mean(y_true*np.log(y_pred))\n",
    "\n",
    "loss = cross_entropy(np.eye(10)[train_labels], all_outputs)\n",
    "\n",
    "print(loss)\n",
    "\n",
    "\"\"\"\n",
    "arr = np.zeros(10)\n",
    "arr[train_labels[0]] = 1\n",
    "arr = np.eye(10)[train_labels[0]]\n",
    "\n",
    "loss = abs(np.eye(10)[train_labels] - all_outputs)\n",
    "\n",
    "print(loss)\n",
    "\"\"\""
   ]
  },
  {
   "cell_type": "code",
   "execution_count": null,
   "id": "e209c483-e3d7-4926-a233-4e00bf68aeb1",
   "metadata": {},
   "outputs": [],
   "source": [
    "l"
   ]
  }
 ],
 "metadata": {
  "kernelspec": {
   "display_name": "Python 3 (ipykernel)",
   "language": "python",
   "name": "python3"
  },
  "language_info": {
   "codemirror_mode": {
    "name": "ipython",
    "version": 3
   },
   "file_extension": ".py",
   "mimetype": "text/x-python",
   "name": "python",
   "nbconvert_exporter": "python",
   "pygments_lexer": "ipython3",
   "version": "3.12.3"
  }
 },
 "nbformat": 4,
 "nbformat_minor": 5
}
